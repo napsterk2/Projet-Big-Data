{
 "cells": [
  {
   "cell_type": "markdown",
   "metadata": {},
   "source": [
    "# BIG DATA A3 - Notebook du projet"
   ]
  },
  {
   "cell_type": "markdown",
   "metadata": {},
   "source": [
    "<i>Strasbourg, Juillet 2019</i>"
   ]
  },
  {
   "cell_type": "markdown",
   "metadata": {},
   "source": [
    "## Contexte"
   ]
  },
  {
   "cell_type": "markdown",
   "metadata": {},
   "source": [
    "Alors que la canicule frappe dûrement la France, que Greta Thunberg ne cesse de faire la une des journaux suite à ses déclarations alarmantes, et qu'aucun pays ne prend de réelles actions au sujet du climat, notre jeune équipe d'ingénieurs informaticiens au CesiCDP décide de répondre à l'appel de l'Agence de l’Environnement et de la Maîtrise de l’Energie.\n",
    "\n",
    "Notre entreprise a une expérience non négligeable dans le domaine de la mobilité. De petite entreprise de quelques membres en 2010, CesiCDP s'est grandement développée en quelques années après avoir mis en place en 2012 un système de livraisons communautaire permettant à n'importe qui, contre rémunération, de livrer colis ou courrier. Nous comptons aujourd'hui plus de 50 000 employés dans 195 pays différents, nos services sont déployés partout dans le monde et nous sommes des invités récurrents dans les sommets concernant la mobilité.\n",
    "\n",
    "Cet appel de l'ADEME est une nouvelle occasion pour nous de montrer notre sens de l'innovation, ainsi que de prouver que nous portons un grand intérêt au problèmes majeurs de notre société. Nous accordons beaucoup d'importance à rendre la vie de nos clients meilleure, mais également celle des autres personnes que nous pouvons impacter de part nos services. C'est pourquoi nous avons décidé de prendre nos responsabilités et de répondre à cet appel.\n",
    "\n",
    "Pour y répondre, notre équipe composée de 5 membres a réalisé une étude concernant la gestion des transports, que ce soit pour de la livraison, pour le ramassage des déchets, pour le traitement du réseau routier, etc.\n",
    "A l'heure actuelle, les chauffeurs réalisent leurs itinéraires selon leur expérience, ou encore selon leurs préférences, ce qui parfois amène a des trajets plus longs qu'ils ne devraient l'être.  \n",
    "L'optimisation de ces trajets sera donc le sujet de cette étude.\n",
    "\n",
    "Cette étude d'optimisation, en plus de pouvoir être utilisé par les livreurs, pourra également être utilisé pour définir le trajet des drones de livraisons, pratique de plus en plus populaire, notamment chez Amazon, lesquels ont déclaré récemment que  des drones de livraisons allaient être déployés prochainement dans certaines villes.  \n",
    "Il sera donc possible de tendre vers un système de livraison complètement automatique et parfaitement optimisé pour réduire coûts et pollution.\n",
    "\n",
    "Ce document synthéthisera les résulats de cette études, avec une présentation des différentes métaheuristiques ainsi que leurs résultats. "
   ]
  },
  {
   "cell_type": "markdown",
   "metadata": {},
   "source": [
    "## Le problème\n",
    "\n",
    "Pour synthéthiser, le problème que cette étude va résoudre est le suivant :\n",
    "\n",
    "Un camion de livraison doit ravitailler un nombre donné de villes, il doit passer par toutes les villes et effectuer sa livraison pendant la fenêtre horaire relative à chaque ville.\n",
    "\n",
    "<b>Diminuer au maximum la distance parcourue pour effectuer toutes les livraisons, tout en respectant les fenêtres de livraison de chaque ville.</b>\n",
    "\n",
    "Il s'agit donc d'un problème décisionnel, où l'on cherche à trouver s'il existe, oui ou non, un circuit de longueur inférieur à k qui respècte la contrainte des fenêtres de livraison.\n",
    "C'est un problème qui appartient à la classe PL, car il peut être résolu en temps polynomial, et en espace logarithmique, par une machine déterministe."
   ]
  },
  {
   "cell_type": "markdown",
   "metadata": {},
   "source": [
    "# Solutions\n",
    "\n",
    "Ci-dessous sont listées chaque solution traitée par cette étude pour permettre de résoudre le problème d'optimisation des trajets."
   ]
  },
  {
   "cell_type": "markdown",
   "metadata": {},
   "source": [
    "\n",
    "## L'algorithme de la recherche tabou\n",
    "### Présentation"
   ]
  },
  {
   "cell_type": "markdown",
   "metadata": {},
   "source": [
    "La recherche tabou consiste en ce qui suit :\n",
    "\n",
    "En partant d'une position donnée, choisir la position voisine qui minimise la fonction objectif.  \n",
    "Le mécanisme de la recherche tabou va être de stocker les positions déjà explorées dans une liste tabou de type First In First Out d'une taille donnée, et d'interdire de retourner sur les positions contenues dans la liste."
   ]
  },
  {
   "cell_type": "markdown",
   "metadata": {},
   "source": [
    "Dans notre contexte, il se réalise de la façon suivante :\n",
    "\n",
    "Partir d'une ville donnée, regarder les villes les plus proches et choisir celle qui est la plus près et dont la fenêtre de livraison est ouverte.\n",
    "Les villes déjà explorées entrent dans la \"liste tabou\" de taille variable, et tant qu'elles seront dans cette liste le livreur n'aura pas le droit d'y retourner."
   ]
  },
  {
   "cell_type": "markdown",
   "metadata": {},
   "source": [
    "### Résultats"
   ]
  },
  {
   "cell_type": "markdown",
   "metadata": {},
   "source": [
    "Pour notre problème, cet algorithme a eu les résultats suivants :"
   ]
  },
  {
   "cell_type": "markdown",
   "metadata": {},
   "source": [
    "## L'algorithme du recuit simulé"
   ]
  },
  {
   "cell_type": "markdown",
   "metadata": {},
   "source": [
    "### Présentation"
   ]
  },
  {
   "cell_type": "markdown",
   "metadata": {},
   "source": [
    "Le recuit simulé consiste en ce qui suit :  \n",
    "\n",
    "On définit une température initiale (T0), une température à atteindre (Tmin) ainsi qu'une vitesse de refroidissement (tau).\n",
    "\n",
    "On appelle Energie E la fonction à minimiser. Suite à une modification de l'état du système, un autre état est obtenu. Si il améliorer le critère que l'on veut optimiser, il fait baisser l'énergie du système.  \n",
    "Si cet été dégrade le critère que l'on veut optimiser, il est possible de l'accepter selon une probabilité p, ce qui permet d'éviter un optimum local.\n",
    "\n",
    "L'algorithme s'arrête une fois la température minimum atteinte.  "
   ]
  },
  {
   "cell_type": "markdown",
   "metadata": {},
   "source": [
    "Dans notre contexte, il se réalise de la façon suivante :\n",
    "\n",
    "Réaliser un trajet aléatoire, puis calculer la distance totale que représente ce trajet.  \n",
    "Ensuite, échanger aléatoirement deux arêtes de ce trajet. On applique ensuite la loi de Métropolis :  \n",
    "Si la distance totale a baissé, on garde ce changement. Sinon, elle peut être gardé selon une proba p définie par :  \n",
    "![probarecuit.PNG](attachment:probarecuit.PNG) Avec E l'énergie (la distance totale) et T la température du système.\n",
    "\n",
    "On applique ensuite la loi de refroidissement, qui est une loi de décroissance exponentielle : !![loirefroidissement.PNG](attachment:loirefroidissement.PNG)\n",
    "\n",
    "Lorsque que la température a atteint le minimum donné, on considère que l'algorithme a terminé et que la solution est optimisée."
   ]
  },
  {
   "cell_type": "markdown",
   "metadata": {},
   "source": [
    "### Résultats"
   ]
  },
  {
   "cell_type": "markdown",
   "metadata": {},
   "source": [
    "Pour notre problème, cet algorithme a eu les résultats suivants :"
   ]
  },
  {
   "cell_type": "markdown",
   "metadata": {},
   "source": [
    "Pour 10 villes :\n",
    "\n",
    "![recuit10villes.PNG](attachment:recuit10villes.PNG)"
   ]
  },
  {
   "cell_type": "markdown",
   "metadata": {},
   "source": [
    "Pour 50 villes :\n",
    "\n",
    "![recuit50villes.PNG](attachment:recuit50villes.PNG)"
   ]
  },
  {
   "cell_type": "code",
   "execution_count": 1,
   "metadata": {},
   "outputs": [
    {
     "name": "stdout",
     "output_type": "stream",
     "text": [
      "26.18150240900274\n",
      "6.986166414707497\n",
      "73133.0\n"
     ]
    }
   ],
   "source": [
    "from scipy import *\n",
    "from matplotlib.pyplot import *\n",
    "\n",
    "#Definition des paramètres\n",
    "\n",
    "cities = 50\n",
    "T0 = 15.0 #temperature initiale\n",
    "Tmin = 0.01 #fixe la fin du recuit\n",
    "tau = 10000 #définit la vitesse de baisse de température\n",
    "\n",
    "#Fonction qui va permettre de calculer l'énergie totale, en mesurant la somme des distances entre les villes dans l'ordre de parcours du trajet, c'est à dire donc la distance de trajet.\n",
    "def totalEnergy():\n",
    "    global path\n",
    "    energy = 0\n",
    "    coordinates = c_[x[path],y[path]]\n",
    "    energy = sum(sqrt(sum((coordinates - roll(coordinates,-1,axis=0))**2,axis=1)))\n",
    "    return energy\n",
    "\n",
    "#Fonction qui va swapper un certain nombre de segments (entre i et j), ce qui entrainera un changement d'énergie dans le système\n",
    "#Swap inverse lorsqu'elle est réappellé avec les mêmes valeurs (pour retour aux trajets antérieurs)\n",
    "def swapping(i, j):\n",
    "    global path\n",
    "    Minimum = min(i,j)\n",
    "    Maximum = max(i,j)\n",
    "    path[Minimum:Maximum] = path[Minimum:Maximum].copy()[::-1]\n",
    "    return\n",
    "\n",
    "#Vérification de l'énergie, et on décide si la fluctuation est gardée ou non selon la proba de l'algo\n",
    "def Metropolis(E1,E2):\n",
    "    global T\n",
    "    if E1 <= E2:\n",
    "        E2 = E1  # énergie du nouvel état = énergie système\n",
    "    else:\n",
    "        dE = E1-E2\n",
    "        if random.uniform() > exp(-dE/T): # la fluctuation est retenue avec la proba p. sinon retour trajet antérieur\n",
    "            swapping(i,j)              \n",
    "        else:\n",
    "            E2 = E1 # la fluctuation est retenue \n",
    "    return E2\n",
    "\n",
    "#variables à instancer\n",
    "t = 0\n",
    "T = T0\n",
    "\n",
    "#variables d'historique\n",
    "Henergy = []\n",
    "Htime = []\n",
    "Htemp = []\n",
    "\n",
    "#placement de N villes sur le plan\n",
    "x = random.uniform(size=cities)\n",
    "y = random.uniform(size=cities)\n",
    "\n",
    "#trajet initial réalisé selon l'ordre d'apparition des villes\n",
    "path = arange(cities)\n",
    "initialPath = path.copy()\n",
    "\n",
    "#On calcule la distance initiale séparant les villes, qu'il va falloir minimiser\n",
    "Ec = totalEnergy()\n",
    "\n",
    "while T>Tmin:\n",
    "    #permet de choisir deux villes différentes au hasard\n",
    "    i = random.randint(0, cities-1)\n",
    "    j = random.randint(0, cities-1)\n",
    "    if i == j: continue\n",
    "\n",
    "    #On appelle le swapping et on mesure l'énergie\n",
    "    swapping(i, j)\n",
    "    Ef = totalEnergy()\n",
    "    Ec = Metropolis(Ef, Ec)\n",
    "\n",
    "    #loi de refroidissmenet\n",
    "    t += 1\n",
    "    T = T0*exp(-t/tau)\n",
    "\n",
    "    #on rajoute les variables à l'historique\n",
    "    if t % 10 == 0:\n",
    "        Henergy.append(Ec)\n",
    "        Htime.append(t)\n",
    "        Htemp.append(T)\n",
    "\n",
    "#display de nos resultats\n",
    "print(float(Henergy[0]))\n",
    "print(float(Ec))\n",
    "print(float(t))"
   ]
  },
  {
   "cell_type": "markdown",
   "metadata": {},
   "source": [
    "# Étude statistique"
   ]
  },
  {
   "cell_type": "markdown",
   "metadata": {},
   "source": [
    "Ci-dessous sont listées des statistiques qui ont été générées à partir des solutions vues ci-dessus."
   ]
  },
  {
   "cell_type": "markdown",
   "metadata": {},
   "source": [
    "## Algorithme de la recherche tabou"
   ]
  },
  {
   "cell_type": "code",
   "execution_count": null,
   "metadata": {},
   "outputs": [],
   "source": []
  }
 ],
 "metadata": {
  "kernelspec": {
   "display_name": "Python 3",
   "language": "python",
   "name": "python3"
  },
  "language_info": {
   "codemirror_mode": {
    "name": "ipython",
    "version": 3
   },
   "file_extension": ".py",
   "mimetype": "text/x-python",
   "name": "python",
   "nbconvert_exporter": "python",
   "pygments_lexer": "ipython3",
   "version": "3.7.2"
  }
 },
 "nbformat": 4,
 "nbformat_minor": 2
}
