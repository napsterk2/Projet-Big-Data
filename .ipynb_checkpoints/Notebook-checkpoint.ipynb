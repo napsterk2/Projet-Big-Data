{
 "cells": [
  {
   "cell_type": "markdown",
   "metadata": {},
   "source": [
    "# BIG DATA A3 - Notebook du projet"
   ]
  },
  {
   "cell_type": "markdown",
   "metadata": {},
   "source": [
    "<i>Strasbourg, Juillet 2019</i>"
   ]
  },
  {
   "cell_type": "markdown",
   "metadata": {},
   "source": [
    "## Contexte"
   ]
  },
  {
   "cell_type": "markdown",
   "metadata": {},
   "source": [
    "Alors que la canicule frappe dûrement la France, que Greta Thunberg ne cesse de faire la une des journaux suite à ses déclarations alarmantes, et qu'aucun pays ne prend de réelles actions au sujet du climat, notre jeune équipe d'ingénieurs informaticiens au CesiCDP décide de répondre à l'appel de l'Agence de l’Environnement et de la Maîtrise de l’Energie.\n",
    "\n",
    "Pour répondre à cet appel, notre équipe composée de 5 membres a réalisé une étude concernant la gestion des transports, que ce soit pour de la livraison, pour le ramassage des déchets, pour le traitement du réseau routier, etc.\n",
    "A l'heure actuelle, les chauffeurs réalisent leurs itinéraires selon leur expérience, ou encore selon leurs préférences, ce qui parfois amène a des trajets plus longs qu'ils ne devraient l'être.  \n",
    "L'optimisation de ces trajets sera donc le sujet de cette étude.\n",
    "\n",
    "Cette étude d'optimisation, en plus de pouvoir être utilisé par les livreurs, pourra également être utilisé pour définir le trajet des drones de livraisons, pratique de plus en plus populaire, notamment chez Amazon, lesquels ont déclaré récemment que  des drones de livraisons allaient être déployés prochainement dans certaines villes.  \n",
    "Il sera donc possible de tendre vers un système de livraison complètement automatique et parfaitement optimisé pour réduire coûts et pollution.\n",
    "\n",
    "Ce document synthéthisera les résulats de cette études, avec une présentation des différentes métaheuristiques ainsi que leurs résultats. "
   ]
  },
  {
   "cell_type": "markdown",
   "metadata": {},
   "source": [
    "## Le problème\n",
    "\n",
    "Pour synthéthiser, le problème que cette étude va résoudre est le suivant :\n",
    "\n",
    "Un camion de livraison doit ravitailler un nombre donné de villes, il doit passer par toutes les villes et effectuer sa livraison pendant la fenêtre horaire relative à chaque ville.\n",
    "\n",
    "<b>Diminuer au maximum la distance parcourue pour effectuer toutes les livraisons, tout en respectant les fenêtres de livraison de chaque ville.</b>"
   ]
  },
  {
   "cell_type": "markdown",
   "metadata": {},
   "source": [
    "# Solutions\n",
    "\n",
    "Ci-dessous sont listées chaque solution traitée par cette étude pour permettre de résoudre le problème d'optimisation des livraisons."
   ]
  },
  {
   "cell_type": "markdown",
   "metadata": {},
   "source": [
    "\n",
    "## L'algorithme de la recherche tabou\n",
    "### Présentation"
   ]
  },
  {
   "cell_type": "markdown",
   "metadata": {},
   "source": [
    "Dans notre contexte, la recherche tabou consiste en ce qui suit :\n",
    "\n",
    "Partir d'une ville donnée, regarder les villes les plus proches et choisir celle qui est la plus près et dont la fenêtre de livraison est ouverte.\n",
    "Les villes déjà explorées entrent dans la \"liste tabou\" de taille variable, et tant qu'elles seront dans cette liste le livreur n'aura "
   ]
  },
  {
   "cell_type": "code",
   "execution_count": null,
   "metadata": {},
   "outputs": [],
   "source": []
  }
 ],
 "metadata": {
  "kernelspec": {
   "display_name": "Python 3",
   "language": "python",
   "name": "python3"
  },
  "language_info": {
   "codemirror_mode": {
    "name": "ipython",
    "version": 3
   },
   "file_extension": ".py",
   "mimetype": "text/x-python",
   "name": "python",
   "nbconvert_exporter": "python",
   "pygments_lexer": "ipython3",
   "version": "3.7.2"
  }
 },
 "nbformat": 4,
 "nbformat_minor": 2
}
